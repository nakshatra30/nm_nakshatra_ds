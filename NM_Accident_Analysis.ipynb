{
  "nbformat": 4,
  "nbformat_minor": 0,
  "metadata": {
    "colab": {
      "provenance": []
    },
    "kernelspec": {
      "name": "python3",
      "display_name": "Python 3"
    },
    "language_info": {
      "name": "python"
    }
  },
  "cells": [
    {
      "cell_type": "code",
      "execution_count": null,
      "metadata": {
        "id": "P-ql5S47rU01"
      },
      "outputs": [],
      "source": []
    },
    {
      "cell_type": "code",
      "source": [
        "import pandas as pd\n",
        "import matplotlib.pyplot as plt\n",
        "import seaborn as sns\n",
        "import joblib"
      ],
      "metadata": {
        "id": "iWod3BcDrfbQ"
      },
      "execution_count": null,
      "outputs": []
    },
    {
      "cell_type": "code",
      "source": [
        "# Step 1: Upload the CSV file\n",
        "from google.colab import files\n",
        "uploaded = files.upload()\n",
        "\n",
        "# Step 2: Import pandas and read the uploaded CSV file\n",
        "import pandas as pd\n",
        "\n",
        "# Automatically get the uploaded file name\n",
        "filename = next(iter(uploaded))\n",
        "\n",
        "# Step 3: Load the CSV into a DataFrame\n",
        "df = pd.read_csv(filename)\n",
        "\n",
        "# Step 4: Display basic information\n",
        "print(\"Shape of the dataset:\", df.shape)\n",
        "print(\"Columns in the dataset:\", df.columns)\n",
        "df.head()"
      ],
      "metadata": {
        "id": "ax4LDB7TrjJC"
      },
      "execution_count": null,
      "outputs": []
    },
    {
      "cell_type": "markdown",
      "source": [
        "ng_OSGR\tLocation_Northing_OSGR\tLongitude\tLatitude\tPolice_Force\tAccident_Severity\tNumber_of_Vehicles\tNumber_of_Casualties\tDate\t...\tPedestrian_Crossing-Human_Control\tPedestrian_Crossing-Physical_Facilities\tLight_Conditions\tWeather_Conditions\tRoad_Surface_Conditions\tSpecial_Conditions_at_Site\tCarriageway_Hazards\tUrban_or_Rural_Area\tDid_Police_Officer_Attend_Scene_of_Accident\tLSOA_of_Accident_Location\n",
        "0\t201543P001015\t427450\t196478\t-1.604501\t51.666414\t43\t1\t1\t1\t1/1/2015\t...\t0\t0\t6\t2\t2\t0\t0\t2\t1\tE01028717\n",
        "1\t201543P001035\t462242\t208860\t-1.099287\t51.774959\t43\t1\t1\t2\t2/3/2015\t...\t0\t0\t1\t1\t1\t0\t0\t2\t1\tE01028647\n",
        "2\t201543P001085\t455607\t205064\t-1.196048\t51.741529\t43\t3\t4\t2\t1/8/2015\t...\t0\t0\t1\t1\t1\t0\t0\t2\t1\tE01028556\n",
        "3\t201543P002025\t459026\t216283\t-1.144631\t51.842039\t43\t3\t1\t1\t1/2/2015\t...\t0\t0\t6\t1\t1\t0\t0\t2\t1\tE01028501\n",
        "4\t201543P002045\t450931\t206363\t-1.263574\t51.753651\t43\t3\t2\t1\t1/4/2015\t...\t0\t5\t1\t1\t1\t0\t0\t1\t2\tE01028521\n",
        "5 rows × 32 columns"
      ],
      "metadata": {
        "id": "16fFLymorrJ6"
      }
    },
    {
      "cell_type": "code",
      "source": [
        "from google.colab import drive\n",
        "drive.mount('https://colab.research.google.com/notebooks/intro.ipynb')"
      ],
      "metadata": {
        "id": "PD_FoKLxruFD"
      },
      "execution_count": null,
      "outputs": []
    },
    {
      "cell_type": "markdown",
      "source": [
        "MessageError                              Traceback (most recent call last)\n",
        "<ipython-input-5-57345acf3226> in <cell line: 0>()\n",
        "      1 from google.colab import drive\n",
        "----> 2 drive.mount('https://colab.research.google.com/notebooks/intro.ipynb')\n",
        "\n",
        "3 frames\n",
        "/usr/local/lib/python3.11/dist-packages/google/colab/_message.py in read_reply_from_input(message_id, timeout_sec)\n",
        "    101     ):\n",
        "    102       if 'error' in reply:\n",
        "--> 103         raise MessageError(reply['error'])\n",
        "    104       return reply.get('data', None)\n",
        "    105\n",
        "\n",
        "MessageError: Error: credential propagation was unsuccessful"
      ],
      "metadata": {
        "id": "RdPgdo0VryJb"
      }
    },
    {
      "cell_type": "code",
      "source": [
        "df.isnull().sum()\n"
      ],
      "metadata": {
        "id": "GGHOf9FMr1Dh"
      },
      "execution_count": null,
      "outputs": []
    },
    {
      "cell_type": "markdown",
      "source": [
        "\t0\n",
        "Accident_Index\t0\n",
        "Location_Easting_OSGR\t0\n",
        "Location_Northing_OSGR\t0\n",
        "Longitude\t0\n",
        "Latitude\t0\n",
        "Police_Force\t0\n",
        "Accident_Severity\t0\n",
        "Number_of_Vehicles\t0\n",
        "Number_of_Casualties\t0\n",
        "Date\t0\n",
        "Day_of_Week\t0\n",
        "Time\t0\n",
        "Local_Authority_(District)\t0\n",
        "Local_Authority_(Highway)\t0\n",
        "1st_Road_Class\t0\n",
        "1st_Road_Number\t0\n",
        "Road_Type\t0\n",
        "Speed_limit\t0\n",
        "Junction_Detail\t0\n",
        "Junction_Control\t0\n",
        "2nd_Road_Class\t0\n",
        "2nd_Road_Number\t0\n",
        "Pedestrian_Crossing-Human_Control\t0\n",
        "Pedestrian_Crossing-Physical_Facilities\t0\n",
        "Light_Conditions\t0\n",
        "Weather_Conditions\t0\n",
        "Road_Surface_Conditions\t0\n",
        "Special_Conditions_at_Site\t0\n",
        "Carriageway_Hazards\t0\n",
        "Urban_or_Rural_Area\t0\n",
        "Did_Police_Officer_Attend_Scene_of_Accident\t0\n",
        "LSOA_of_Accident_Location\t7\n"
      ],
      "metadata": {
        "id": "kE0a4k3-r8Ld"
      }
    },
    {
      "cell_type": "code",
      "source": [
        "df.duplicated().sum()"
      ],
      "metadata": {
        "id": "NDnxwRlnr9S7"
      },
      "execution_count": null,
      "outputs": []
    },
    {
      "cell_type": "markdown",
      "source": [
        "NameError                                 Traceback (most recent call last)\n",
        "<ipython-input-1-6e764a0154be> in <cell line: 0>()\n",
        "----> 1 df.duplicated().sum()\n",
        "\n",
        "NameError: name 'df' is not defined"
      ],
      "metadata": {
        "id": "UBMsr4YOsBY2"
      }
    },
    {
      "cell_type": "code",
      "source": [
        "#drop duplicates\n",
        "df.drop_duplicates(inplace=True)"
      ],
      "metadata": {
        "id": "-K_mLwsgsEkG"
      },
      "execution_count": null,
      "outputs": []
    },
    {
      "cell_type": "code",
      "source": [
        "df.duplicated().sum()"
      ],
      "metadata": {
        "id": "0-F5J-88sGPw"
      },
      "execution_count": null,
      "outputs": []
    },
    {
      "cell_type": "markdown",
      "source": [
        "np.int64(0)\n",
        "\n"
      ],
      "metadata": {
        "id": "9zihzPLisJbP"
      }
    },
    {
      "cell_type": "code",
      "source": [
        "df.fillna(method='ffill', inplace=True)"
      ],
      "metadata": {
        "id": "fZXe2bwesMu5"
      },
      "execution_count": null,
      "outputs": []
    },
    {
      "cell_type": "markdown",
      "source": [
        "<ipython-input-17-e9443599d05e>:1: FutureWarning: DataFrame.fillna with 'method' is deprecated and will raise in a future version. Use obj.ffill() or obj.bfill() instead.\n",
        "  df.fillna(method='ffill', inplace=True)"
      ],
      "metadata": {
        "id": "IUK3oTZosP6c"
      }
    },
    {
      "cell_type": "code",
      "source": [
        "df.isnull().sum()"
      ],
      "metadata": {
        "id": "_GW67oVssSil"
      },
      "execution_count": null,
      "outputs": []
    },
    {
      "cell_type": "markdown",
      "source": [
        "\t0\n",
        "Accident_Index\t0\n",
        "Location_Easting_OSGR\t0\n",
        "Location_Northing_OSGR\t0\n",
        "Longitude\t0\n",
        "Latitude\t0\n",
        "Police_Force\t0\n",
        "Accident_Severity\t0\n",
        "Number_of_Vehicles\t0\n",
        "Number_of_Casualties\t0\n",
        "Date\t0\n",
        "Day_of_Week\t0\n",
        "Time\t0\n",
        "Local_Authority_(District)\t0\n",
        "Local_Authority_(Highway)\t0\n",
        "1st_Road_Class\t0\n",
        "1st_Road_Number\t0\n",
        "Road_Type\t0\n",
        "Speed_limit\t0\n",
        "Junction_Detail\t0\n",
        "Junction_Control\t0\n",
        "2nd_Road_Class\t0\n",
        "2nd_Road_Number\t0\n",
        "Pedestrian_Crossing-Human_Control\t0\n",
        "Pedestrian_Crossing-Physical_Facilities\t0\n",
        "Light_Conditions\t0\n",
        "Weather_Conditions\t0\n",
        "Road_Surface_Conditions\t0\n",
        "Special_Conditions_at_Site\t0\n",
        "Carriageway_Hazards\t0\n",
        "Urban_or_Rural_Area\t0\n",
        "Did_Police_Officer_Attend_Scene_of_Accident\t0\n",
        "LSOA_of_Accident_Location\t0\n",
        "\n",
        "dtype: int64"
      ],
      "metadata": {
        "id": "r_QAy_68sUwI"
      }
    },
    {
      "cell_type": "code",
      "source": [
        "df['Accident_Severity'] = df['Accident_Severity'].fillna(df['Accident_Severity'].mode()[0])"
      ],
      "metadata": {
        "id": "zmCVrx8GsYf5"
      },
      "execution_count": null,
      "outputs": []
    },
    {
      "cell_type": "markdown",
      "source": [
        "NameError                                 Traceback (most recent call last)\n",
        "<ipython-input-7-56019c48ba09> in <cell line: 0>()\n",
        "----> 1 df['Accident_Severity'] = df['Accident_Severity'].fillna(df['Accident_Severity'].mode()[0])\n",
        "\n",
        "NameError: name 'df' is not defined"
      ],
      "metadata": {
        "id": "WuGCtRUFscBE"
      }
    },
    {
      "cell_type": "code",
      "source": [
        "import matplotlib.pyplot as plt\n",
        "import seaborn as sns\n"
      ],
      "metadata": {
        "id": "BEujdBuAseZh"
      },
      "execution_count": null,
      "outputs": []
    },
    {
      "cell_type": "code",
      "source": [
        "#feature engineering\n",
        "df['1'] = pd.to_datetime(df['1'])"
      ],
      "metadata": {
        "id": "fdVK4x--sglB"
      },
      "execution_count": null,
      "outputs": []
    },
    {
      "cell_type": "markdown",
      "source": [
        "NameError                                 Traceback (most recent call last)\n",
        "<ipython-input-17-25038e83352b> in <cell line: 0>()\n",
        "      1 #feature engineering\n",
        "----> 2 df['1'] = pd.to_datetime(df['1'])\n",
        "\n",
        "NameError: name 'df' is not defined"
      ],
      "metadata": {
        "id": "rX32m1xbskJW"
      }
    },
    {
      "cell_type": "code",
      "source": [
        "def explore_numerical(df, column_name):\n",
        "    print(f\"\\nDescriptive statistics for {column_name}:\")\n",
        "    print(df[column_name].describe())\n",
        "    plt.figure(figsize=(8, 6))\n",
        "    sns.histplot(df[column_name], kde=True)\n",
        "    plt.title(f\"Distribution of {column_name}\")\n",
        "    plt.show()\n",
        "    plt.figure(figsize=(8, 6))\n",
        "    sns.boxplot(data=df, y=column_name)\n",
        "    plt.title(f\"Boxplot of {column_name}\")\n",
        "    plt.show("
      ],
      "metadata": {
        "id": "GJRL43MoslgO"
      },
      "execution_count": null,
      "outputs": []
    },
    {
      "cell_type": "code",
      "source": [
        "df = df[['Severity', 'Start_Time', 'Start_Lat', 'Start_Lng', 'Temperature(F)',\n",
        "         'Weather_Condition', 'City', 'Visibility(mi)', 'Humidity(%)']].dropna()\n"
      ],
      "metadata": {
        "id": "FCV-exVgsoG7"
      },
      "execution_count": null,
      "outputs": []
    },
    {
      "cell_type": "markdown",
      "source": [
        "KeyError                                  Traceback (most recent call last)\n",
        "<ipython-input-26-ea6531be6d34> in <cell line: 0>()\n",
        "----> 1 df = df[['Severity', 'Start_Time', 'Start_Lat', 'Start_Lng', 'Temperature(F)',\n",
        "      2          'Weather_Condition', 'City', 'Visibility(mi)', 'Humidity(%)']].dropna()\n",
        "\n",
        "2 frames\n",
        "/usr/local/lib/python3.11/dist-packages/pandas/core/indexes/base.py in _raise_if_missing(self, key, indexer, axis_name)\n",
        "   6247         if nmissing:\n",
        "   6248             if nmissing == len(indexer):\n",
        "-> 6249                 raise KeyError(f\"None of [{key}] are in the [{axis_name}]\")\n",
        "   6250\n",
        "   6251             not_found = list(ensure_index(key)[missing_mask.nonzero()[0]].unique())\n",
        "\n",
        "KeyError: \"None of [Index(['Severity', 'Start_Time', 'Start_Lat', 'Start_Lng', 'Temperature(F)',\\n       'Weather_Condition', 'City', 'Visibility(mi)', 'Humidity(%)'],\\n      dtype='object')] are in the [columns]"
      ],
      "metadata": {
        "id": "sa_IDEvcsxEb"
      }
    },
    {
      "cell_type": "code",
      "source": [
        "df['Start_Time'] = pd.to_datetime(df['Start_Time'])\n",
        "df['Hour'] = df['Start_Time'].dt.hour\n",
        "df['DayOfWeek'] = df['Start_Time'].dt.dayofweek\n",
        "df['Month'] = df['Start_Time'].dt.month"
      ],
      "metadata": {
        "id": "a7k04zBnsyAQ"
      },
      "execution_count": null,
      "outputs": []
    },
    {
      "cell_type": "markdown",
      "source": [
        "KeyError                                  Traceback (most recent call last)\n",
        "/usr/local/lib/python3.11/dist-packages/pandas/core/indexes/base.py in get_loc(self, key)\n",
        "   3804         try:\n",
        "-> 3805             return self._engine.get_loc(casted_key)\n",
        "   3806         except KeyError as err:\n",
        "\n",
        "index.pyx in pandas._libs.index.IndexEngine.get_loc()\n",
        "\n",
        "index.pyx in pandas._libs.index.IndexEngine.get_loc()\n",
        "\n",
        "pandas/_libs/hashtable_class_helper.pxi in pandas._libs.hashtable.PyObjectHashTable.get_item()\n",
        "\n",
        "pandas/_libs/hashtable_class_helper.pxi in pandas._libs.hashtable.PyObjectHashTable.get_item()\n",
        "\n",
        "KeyError: 'Start_Time'\n",
        "\n",
        "The above exception was the direct cause of the following exception:\n",
        "\n",
        "KeyError                                  Traceback (most recent call last)\n",
        "2 frames\n",
        "/usr/local/lib/python3.11/dist-packages/pandas/core/indexes/base.py in get_loc(self, key)\n",
        "   3810             ):\n",
        "   3811                 raise InvalidIndexError(key)\n",
        "-> 3812             raise KeyError(key) from err\n",
        "   3813         except TypeError:\n",
        "   3814             # If we have a listlike key, _check_indexing_error will raise\n",
        "\n",
        "KeyError: 'Start_Time'\n"
      ],
      "metadata": {
        "id": "LRwF6rXzs1nI"
      }
    },
    {
      "cell_type": "code",
      "source": [
        "df['Weather_Condition'] = df['Weather_Condition'].astype('category').cat.codes\n",
        "df['City'] = df['City'].astype('category').cat.codes"
      ],
      "metadata": {
        "id": "DUlrJPW-s2U5"
      },
      "execution_count": null,
      "outputs": []
    },
    {
      "cell_type": "markdown",
      "source": [
        "KeyError                                  Traceback (most recent call last)\n",
        "/usr/local/lib/python3.11/dist-packages/pandas/core/indexes/base.py in get_loc(self, key)\n",
        "   3804         try:\n",
        "-> 3805             return self._engine.get_loc(casted_key)\n",
        "   3806         except KeyError as err:\n",
        "\n",
        "index.pyx in pandas._libs.index.IndexEngine.get_loc()\n",
        "\n",
        "index.pyx in pandas._libs.index.IndexEngine.get_loc()\n",
        "\n",
        "pandas/_libs/hashtable_class_helper.pxi in pandas._libs.hashtable.PyObjectHashTable.get_item()\n",
        "\n",
        "pandas/_libs/hashtable_class_helper.pxi in pandas._libs.hashtable.PyObjectHashTable.get_item()\n",
        "\n",
        "KeyError: 'Weather_Condition'\n",
        "\n",
        "The above exception was the direct cause of the following exception:\n",
        "\n",
        "KeyError                                  Traceback (most recent call last)\n",
        "2 frames\n",
        "/usr/local/lib/python3.11/dist-packages/pandas/core/indexes/base.py in get_loc(self, key)\n",
        "   3810             ):\n",
        "   3811                 raise InvalidIndexError(key)\n",
        "-> 3812             raise KeyError(key) from err\n",
        "   3813         except TypeError:\n",
        "   3814             # If we have a listlike key, _check_indexing_error will raise\n",
        "\n",
        "KeyError: 'Weather_Condition'"
      ],
      "metadata": {
        "id": "1DKsV7LZs62O"
      }
    },
    {
      "cell_type": "code",
      "source": [
        "# Step 2: Import pandas and read the uploaded CSV file\n",
        "import pandas as pd\n",
        "\n",
        "# Automatically get the uploaded file name\n",
        "filename = next(iter(uploaded))\n",
        "\n",
        "# Step 3: Load the CSV into a DataFrame\n",
        "df = pd.read_csv(filename)\n",
        "\n",
        "df['Weather_Condition']=df['Weather_Condition'].astype('category').cat.codes\n",
        "df['city']=df['city'].astype('category').cat.codes"
      ],
      "metadata": {
        "id": "sKrB6nB9s9Qa"
      },
      "execution_count": null,
      "outputs": []
    },
    {
      "cell_type": "code",
      "source": [
        "from sklearn.model_selection import train_test_split\n",
        "from sklearn.ensemble import RandomForestClassifier\n",
        "from sklearn.metrics import classification_report, confusion_matrix\n",
        "\n",
        "X = df.drop(['Severity','Start_Time'], axis=1)\n",
        "y = df['Severity']\n",
        "\n",
        "X_train, X_test, y_train, y_test = train_test_split(X, y, test_size=0.2, random_state=42)\n",
        "\n",
        "model = RandomForestClassifier(n_estimators=100)\n",
        "model.fit(X_train, y_train)"
      ],
      "metadata": {
        "id": "m4JN_4gss_8S"
      },
      "execution_count": null,
      "outputs": []
    },
    {
      "cell_type": "code",
      "source": [
        "y_pred = model.predict(X_test)\n",
        "\n",
        "print(confusion_matrix(y_test, y_pred))\n",
        "print(classification_report(y_test, y_pred))\n"
      ],
      "metadata": {
        "id": "0YhUQOIQtDX_"
      },
      "execution_count": null,
      "outputs": []
    },
    {
      "cell_type": "code",
      "source": [
        "import joblib\n",
        "joblib.dump(model, 'accident_model.pkl')\n",
        "joblib.dump(X.columns, 'accident_features.pkl')"
      ],
      "metadata": {
        "id": "Ifl4M-mQtEJo"
      },
      "execution_count": null,
      "outputs": []
    },
    {
      "cell_type": "code",
      "source": [
        "def explore_numerical(df, column_name):\n",
        "    print(f\"\\nDescriptive statistics for {column_name}:\")\n",
        "    print(df[column_name].describe())\n",
        "    plt.figure(figsize=(8, 6))\n",
        "    sns.histplot(df[column_name], kde=True)\n",
        "    plt.title(f\"Distribution of {column_name}\")\n",
        "    plt.show()\n",
        "    plt.figure(figsize=(8, 6))\n",
        "    sns.boxplot(data=df, y=column_name)\n",
        "    plt.title(f\"Boxplot of {column_name}\")\n",
        "    plt.show()"
      ],
      "metadata": {
        "id": "OccJr-0htG0Y"
      },
      "execution_count": null,
      "outputs": []
    },
    {
      "cell_type": "code",
      "source": [
        "import pandas as pd\n",
        "import seaborn as sns\n",
        "import matplotlib.pyplot as plt\n",
        "df = pd.read_csv('road-safety-data-accidents-in-oxfordshire-2015.csv')\n",
        "print(df.head())\n",
        "print(df.describe())\n",
        "plt.figure(figsize=(10, 6))\n",
        "sns.boxplot(x='Severity', y='Casualties', data=df)\n",
        "plt.title('Distribution of Casualties by Accident Severity')\n",
        "plt.xlabel('Accident Severity')\n",
        "plt.ylabel('Number of Casualties')\n",
        "plt.grid(True)\n",
        "plt.show()\n",
        "plt.figure(figsize=(12, 6))\n",
        "sns.boxplot(x='Weather_Condition', y='Vehicles_Involved', data=df)\n",
        "plt.title('Vehicles Involved by Weather Condition')\n",
        "plt.xticks(rotation=45)\n",
        "plt.xlabel('Weather Condition')\n",
        "plt.ylabel('Number of Vehicles Involved')\n",
        "plt.grid(True)\n",
        "plt.tight_layout()\n",
        "plt.show()\n"
      ],
      "metadata": {
        "id": "FH3EqAXGtJce"
      },
      "execution_count": null,
      "outputs": []
    },
    {
      "cell_type": "code",
      "source": [
        "sns.pairplot('road-safety-data-accidents-in-oxfordshire-2015.csv')\n",
        "plt.show()"
      ],
      "metadata": {
        "id": "HKj7rgKhtOeI"
      },
      "execution_count": null,
      "outputs": []
    },
    {
      "cell_type": "code",
      "source": [
        "import pandas as pd\n",
        "import matplotlib.pyplot as plt\n",
        "import seaborn as sns\n",
        "\n",
        "\n",
        "df = pd.read_csv(/content/road-safety-data-accident.csv', parse_dates=['Timestamp'])\n",
        "df['Hour'] = df['Timestamp'].dt.hour\n",
        "df['DayOfWeek'] = df['Timestamp'].dt.day_name()\n",
        "\n",
        "\n",
        "def time_of_day(hour):\n",
        "    if 5 <= hour < 12:\n",
        "        return 'Morning'\n",
        "    elif 12 <= hour < 17:\n",
        "        return 'Afternoon'\n",
        "    elif 17 <= hour < 21:\n",
        "        return 'Evening'\n",
        "    else:\n",
        "        return 'Night'\n",
        "\n",
        "df['TimeOfDay'] = df['Hour'].apply(time_of_day)\n",
        "\n",
        "df['Vehicle_Bin'] = pd.cut(df['Vehicles_Involved'], bins=[0, 1, 2, 4, 100], labels=['Solo', 'Two', 'Few', 'Many'])\n",
        "\n",
        "df['Is_Rush_Hour'] = df['Hour'].apply(lambda x: 1 if x in [7,8,9,16,17,18] else 0)\n",
        "plt.figure(figsize=(10,6))\n",
        "sns.boxplot(x='TimeOfDay', y='Casualties', data=df)\n",
        "plt.title('Casualties by Time of Day')\n",
        "plt.grid(True)\n",
        "plt.show()\n",
        "\n",
        "\n",
        "plt.figure(figsize=(10,6))\n",
        "sns.boxplot(x='DayOfWeek', y='Vehicles_Involved', data=df, order=['Monday','Tuesday','Wednesday','Thursday','Friday','Saturday','Sunday'])\n",
        "plt.title('Vehicles Involved by Day of Week')\n",
        "plt.xticks(rotation=45)\n",
        "plt.grid(True)\n",
        "plt.show()\n",
        "\n",
        "plt.figure(figsize=(8,6))\n",
        "sns.boxplot(x='Is_Rush_Hour', y='Casualties', data=df)\n",
        "plt.title('Casualties During Rush vs Non-Rush Hours')\n",
        "plt.xticks([0, 1], ['Non-Rush', ']()\n"
      ],
      "metadata": {
        "id": "f2Xg7hGdtSqh"
      },
      "execution_count": null,
      "outputs": []
    }
  ]
}